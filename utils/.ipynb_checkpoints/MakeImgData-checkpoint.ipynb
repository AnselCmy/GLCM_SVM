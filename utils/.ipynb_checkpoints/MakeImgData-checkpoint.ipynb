{
 "cells": [
  {
   "cell_type": "code",
   "execution_count": 1,
   "metadata": {
    "collapsed": true,
    "deletable": true,
    "editable": true
   },
   "outputs": [],
   "source": [
    "%matplotlib inline\n",
    "import cv2\n",
    "import os\n",
    "import shutil\n",
    "import numpy as np\n",
    "import matplotlib.pyplot as plt"
   ]
  },
  {
   "cell_type": "code",
   "execution_count": 5,
   "metadata": {
    "collapsed": false,
    "deletable": true,
    "editable": true
   },
   "outputs": [],
   "source": [
    "neg_path = \"../wood_grass/origin/-1/\"\n",
    "pos_path = \"../wood_grass/origin/1/\"\n",
    "split_neg_path = \"../wood_grass/train/-1/\"\n",
    "split_pos_path = \"../wood_grass/train/1/\"\n",
    "size = 50"
   ]
  },
  {
   "cell_type": "code",
   "execution_count": 6,
   "metadata": {
    "collapsed": true,
    "deletable": true,
    "editable": true
   },
   "outputs": [],
   "source": [
    "def splitImg(origin_path, split_path, size, step=1, limit=None):\n",
    "    # make folder\n",
    "    exist = os.path.exists(split_path)\n",
    "    if not exist:\n",
    "        os.makedirs(split_path) \n",
    "    else:\n",
    "        shutil.rmtree(split_path)  \n",
    "        os.mkdir(split_path) \n",
    "    # img_list\n",
    "    img_list = [f for f in os.listdir(origin_path) if f[0]!='.']\n",
    "    cnt = 0;\n",
    "    for name in img_list:\n",
    "        img = cv2.imread(origin_path+name, cv2.IMREAD_GRAYSCALE)\n",
    "        cols = img.shape[0]\n",
    "        rows = img.shape[1]\n",
    "        for c in range(cols-size+step):\n",
    "            for r in range(rows-size+step):\n",
    "                temp = img[c:c+size, r:r+size]\n",
    "                cv2.imwrite(split_path+str(cnt)+'.jpg', temp)\n",
    "                cnt += 1;\n",
    "                if limit!=None and cnt >= limit-1:\n",
    "                    return"
   ]
  },
  {
   "cell_type": "code",
   "execution_count": 4,
   "metadata": {
    "collapsed": false,
    "deletable": true,
    "editable": true
   },
   "outputs": [],
   "source": [
    "splitImg(neg_path, split_neg_path, size, 5, 200)"
   ]
  },
  {
   "cell_type": "code",
   "execution_count": null,
   "metadata": {
    "collapsed": true,
    "deletable": true,
    "editable": true
   },
   "outputs": [],
   "source": [
    "splitImg(pos_path, split_pos_path, size, 5, 200)"
   ]
  }
 ],
 "metadata": {
  "anaconda-cloud": {},
  "kernelspec": {
   "display_name": "Python [conda env:cv3]",
   "language": "python",
   "name": "conda-env-cv3-py"
  },
  "language_info": {
   "codemirror_mode": {
    "name": "ipython",
    "version": 3
   },
   "file_extension": ".py",
   "mimetype": "text/x-python",
   "name": "python",
   "nbconvert_exporter": "python",
   "pygments_lexer": "ipython3",
   "version": "3.6.2"
  }
 },
 "nbformat": 4,
 "nbformat_minor": 1
}
