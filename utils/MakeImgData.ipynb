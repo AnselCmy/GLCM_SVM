{
 "cells": [
  {
   "cell_type": "code",
   "execution_count": 7,
   "metadata": {
    "collapsed": true,
    "deletable": true,
    "editable": true
   },
   "outputs": [],
   "source": [
    "%matplotlib inline\n",
    "import cv2\n",
    "import os\n",
    "import shutil\n",
    "import numpy as np\n",
    "import matplotlib.pyplot as plt"
   ]
  },
  {
   "cell_type": "code",
   "execution_count": 11,
   "metadata": {
    "collapsed": false,
    "deletable": true,
    "editable": true
   },
   "outputs": [],
   "source": [
    "neg_path = \"../binary_classification/origin/-1/\"\n",
    "pos_path = \"../binary_classification/origin/1/\"\n",
    "split_neg_path = \"../binary_classification/train/-1/\"\n",
    "split_pos_path = \"../binary_classification/train/1/\"\n",
    "size = 15"
   ]
  },
  {
   "cell_type": "code",
   "execution_count": 20,
   "metadata": {
    "collapsed": true,
    "deletable": true,
    "editable": true
   },
   "outputs": [],
   "source": [
    "def splitImg(origin_path, split_path, size, step=1, limit=None):\n",
    "    # make folder\n",
    "    exist = os.path.exists(split_path)\n",
    "    if not exist:\n",
    "        os.makedirs(split_path) \n",
    "    else:\n",
    "        shutil.rmtree(split_path)  \n",
    "        os.mkdir(split_path) \n",
    "    # img_list\n",
    "    img_list = [f for f in os.listdir(origin_path) if f[0]!='.']\n",
    "    cnt = 0;\n",
    "    for name in img_list:\n",
    "        img = cv2.imread(origin_path+name, cv2.IMREAD_GRAYSCALE)\n",
    "        cols = img.shape[0]\n",
    "        rows = img.shape[1]\n",
    "        for c in range(int((cols-size)/step+1)):\n",
    "            for r in range(int((rows-size)/step+1)):\n",
    "                temp = img[c:c+size, r:r+size]\n",
    "                cv2.imwrite(split_path+str(cnt)+'.jpg', temp)\n",
    "                cnt += 1;\n",
    "                if limit!=None and cnt >= limit:\n",
    "                    return"
   ]
  },
  {
   "cell_type": "code",
   "execution_count": 31,
   "metadata": {
    "collapsed": false,
    "deletable": true,
    "editable": true
   },
   "outputs": [],
   "source": [
    "splitImg(neg_path, split_neg_path, size, 1, None)"
   ]
  },
  {
   "cell_type": "code",
   "execution_count": 32,
   "metadata": {
    "collapsed": true,
    "deletable": true,
    "editable": true
   },
   "outputs": [],
   "source": [
    "splitImg(pos_path, split_pos_path, size, 3, 200)"
   ]
  },
  {
   "cell_type": "code",
   "execution_count": null,
   "metadata": {
    "collapsed": true
   },
   "outputs": [],
   "source": []
  }
 ],
 "metadata": {
  "anaconda-cloud": {},
  "kernelspec": {
   "display_name": "Python [conda env:cv3]",
   "language": "python",
   "name": "conda-env-cv3-py"
  },
  "language_info": {
   "codemirror_mode": {
    "name": "ipython",
    "version": 3
   },
   "file_extension": ".py",
   "mimetype": "text/x-python",
   "name": "python",
   "nbconvert_exporter": "python",
   "pygments_lexer": "ipython3",
   "version": "3.6.2"
  }
 },
 "nbformat": 4,
 "nbformat_minor": 1
}
